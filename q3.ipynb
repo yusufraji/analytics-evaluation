{
 "cells": [
  {
   "cell_type": "markdown",
   "metadata": {},
   "source": [
    "# Paragraph analysis"
   ]
  },
  {
   "cell_type": "markdown",
   "metadata": {},
   "source": [
    "## Imports"
   ]
  },
  {
   "cell_type": "code",
   "execution_count": 1,
   "metadata": {},
   "outputs": [],
   "source": [
    "import re\n",
    "import textwrap\n",
    "import numpy as np\n",
    "import pandas as pd\n",
    "import seaborn as sns\n",
    "from scipy.stats import skew\n",
    "from collections import Counter\n",
    "import matplotlib.pyplot as plt\n",
    "plt.style.use(\"seaborn\")\n",
    "from sklearn.feature_extraction.text import CountVectorizer, TfidfVectorizer\n",
    "\n",
    "%matplotlib inline\n",
    "wrapper = textwrap.TextWrapper(width=80, break_long_words=False, break_on_hyphens=False)\n"
   ]
  },
  {
   "cell_type": "markdown",
   "metadata": {},
   "source": [
    "## Load text file"
   ]
  },
  {
   "cell_type": "code",
   "execution_count": 2,
   "metadata": {},
   "outputs": [],
   "source": [
    "df = pd.read_csv(\"text.txt\", header=None, sep='\\n')\n",
    "paragraph = df.to_string(header=False, index=False).lower()"
   ]
  },
  {
   "cell_type": "code",
   "execution_count": 3,
   "metadata": {},
   "outputs": [
    {
     "data": {
      "text/plain": [
       "21"
      ]
     },
     "execution_count": 3,
     "metadata": {},
     "output_type": "execute_result"
    }
   ],
   "source": [
    "line_len = paragraph.count('\\n')\n",
    "line_len"
   ]
  },
  {
   "cell_type": "code",
   "execution_count": 4,
   "metadata": {},
   "outputs": [
    {
     "name": "stdout",
     "output_type": "stream",
     "text": [
      "   as a term, data analytics predominantly refers to an assortment of\n",
      "applications, from basic business        intelligence (bi), reporting and online\n",
      "analytical processing (olap) to various forms of advanced        analytics. in\n",
      "that sense, it's similar in nature to business analytics, another umbrella term\n",
      "for  approaches to analyzing data -- with the difference that the latter is\n",
      "oriented to business uses, while      data analytics has a broader focus. the\n",
      "expansive view of the term isn't universal, though: in some      cases, people\n",
      "use data analytics specifically to mean advanced analytics, treating bi as a\n",
      "separate         category.  data analytics initiatives can help businesses\n",
      "increase revenues, improve operational           efficiency, optimize marketing\n",
      "campaigns and customer service efforts, respond more quickly to\n",
      "emerging market trends and gain a competitive edge over rivals -- all with the\n",
      "ultimate goal of         boosting business performance. depending on the\n",
      "particular application, the data that's analyzed        can consist of either\n",
      "historical records or new information that has been processed for real-time\n",
      "analytics uses. in addition, it can come from a mix of internal systems and\n",
      "external data sources.  at   a high level, data analytics methodologies include\n",
      "exploratory data analysis (eda), which aims to find      patterns and\n",
      "relationships in data, and confirmatory data analysis (cda), which applies\n",
      "statistical              techniques to determine whether hypotheses about a data\n",
      "set are true or false. eda is often   compared to detective work, while cda is\n",
      "akin to the work of a judge or jury during a court trial -- a  distinction first\n",
      "drawn by statistician john w. tukey in his 1977 book exploratory data analysis.\n",
      "data       analytics can also be separated into quantitative data analysis and\n",
      "qualitative data analysis. the           former involves analysis of numerical\n",
      "data with quantifiable variables that can be compared or     measured\n",
      "statistically. the qualitative approach is more interpretive -- it focuses on\n",
      "understanding          the content of non-numerical data like text, images,\n",
      "audio and video, including common phrases,\n",
      "themes and points of view.\n"
     ]
    }
   ],
   "source": [
    "print(wrapper.fill(paragraph))"
   ]
  },
  {
   "cell_type": "code",
   "execution_count": 5,
   "metadata": {},
   "outputs": [],
   "source": [
    "# get unique words, unique word counts and characters counts\n",
    "words = re.compile(\"\\w+\").findall(paragraph)\n",
    "words_count = dict(Counter(words))\n",
    "characters = dict(Counter(\"\".join(words)))"
   ]
  },
  {
   "cell_type": "code",
   "execution_count": 6,
   "metadata": {},
   "outputs": [
    {
     "name": "stdout",
     "output_type": "stream",
     "text": [
      "{'as': 2, 'a': 10, 'term': 3, 'data': 18, 'analytics': 10, 'predominantly': 1, 'refers': 1, 'to': 11, 'an': 1, 'assortment': 1, 'of': 10, 'applications': 1, 'from': 2, 'basic': 1, 'business': 4, 'intelligence': 1, 'bi': 2, 'reporting': 1, 'and': 9, 'online': 1, 'analytical': 1, 'processing': 1, 'olap': 1, 'various': 1, 'forms': 1, 'advanced': 2, 'in': 6, 'that': 5, 'sense': 1, 'it': 3, 's': 2, 'similar': 1, 'nature': 1, 'another': 1, 'umbrella': 1, 'for': 2, 'approaches': 1, 'analyzing': 1, 'with': 3, 'the': 11, 'difference': 1, 'latter': 1, 'is': 4, 'oriented': 1, 'uses': 2, 'while': 2, 'has': 2, 'broader': 1, 'focus': 1, 'expansive': 1, 'view': 2, 'isn': 1, 't': 1, 'universal': 1, 'though': 1, 'some': 1, 'cases': 1, 'people': 1, 'use': 1, 'specifically': 1, 'mean': 1, 'treating': 1, 'separate': 1, 'category': 1, 'initiatives': 1, 'can': 5, 'help': 1, 'businesses': 1, 'increase': 1, 'revenues': 1, 'improve': 1, 'operational': 1, 'efficiency': 1, 'optimize': 1, 'marketing': 1, 'campaigns': 1, 'customer': 1, 'service': 1, 'efforts': 1, 'respond': 1, 'more': 2, 'quickly': 1, 'emerging': 1, 'market': 1, 'trends': 1, 'gain': 1, 'competitive': 1, 'edge': 1, 'over': 1, 'rivals': 1, 'all': 1, 'ultimate': 1, 'goal': 1, 'boosting': 1, 'performance': 1, 'depending': 1, 'on': 2, 'particular': 1, 'application': 1, 'analyzed': 1, 'consist': 1, 'either': 1, 'historical': 1, 'records': 1, 'or': 4, 'new': 1, 'information': 1, 'been': 1, 'processed': 1, 'real': 1, 'time': 1, 'addition': 1, 'come': 1, 'mix': 1, 'internal': 1, 'systems': 1, 'external': 1, 'sources': 1, 'at': 1, 'high': 1, 'level': 1, 'methodologies': 1, 'include': 1, 'exploratory': 2, 'analysis': 6, 'eda': 2, 'which': 2, 'aims': 1, 'find': 1, 'patterns': 1, 'relationships': 1, 'confirmatory': 1, 'cda': 2, 'applies': 1, 'statistical': 1, 'techniques': 1, 'determine': 1, 'whether': 1, 'hypotheses': 1, 'about': 1, 'set': 1, 'are': 1, 'true': 1, 'false': 1, 'often': 1, 'compared': 2, 'detective': 1, 'work': 2, 'akin': 1, 'judge': 1, 'jury': 1, 'during': 1, 'court': 1, 'trial': 1, 'distinction': 1, 'first': 1, 'drawn': 1, 'by': 1, 'statistician': 1, 'john': 1, 'w': 1, 'tukey': 1, 'his': 1, '1977': 1, 'book': 1, 'also': 1, 'be': 2, 'separated': 1, 'into': 1, 'quantitative': 1, 'qualitative': 2, 'former': 1, 'involves': 1, 'numerical': 2, 'quantifiable': 1, 'variables': 1, 'measured': 1, 'statistically': 1, 'approach': 1, 'interpretive': 1, 'focuses': 1, 'understanding': 1, 'content': 1, 'non': 1, 'like': 1, 'text': 1, 'images': 1, 'audio': 1, 'video': 1, 'including': 1, 'common': 1, 'phrases': 1, 'themes': 1, 'points': 1}\n"
     ]
    }
   ],
   "source": [
    "print(words_count)"
   ]
  },
  {
   "cell_type": "markdown",
   "metadata": {},
   "source": [
    "## 3a. What is the probability of the word “data” occurring in each line?"
   ]
  },
  {
   "cell_type": "code",
   "execution_count": 7,
   "metadata": {},
   "outputs": [
    {
     "name": "stdout",
     "output_type": "stream",
     "text": [
      "The probability of the word 'data' occurring in each line is 0.857\n"
     ]
    }
   ],
   "source": [
    "# number of occurrences of \"data\" in the paragraph\n",
    "data_count = words_count[\"data\"]\n",
    "\n",
    "# probability of \"data\" occuring in each line\n",
    "data_prob = data_count / line_len\n",
    "print(f\"The probability of the word 'data' occurring in each line is {data_prob:.3f}\")"
   ]
  },
  {
   "cell_type": "markdown",
   "metadata": {},
   "source": [
    "## Conclusion\n",
    "\n",
    "The probability of the word 'data' occurring in each line is 0.818."
   ]
  },
  {
   "cell_type": "markdown",
   "metadata": {},
   "source": [
    "## 3b. What is the distribution of distinct word counts across all the lines?"
   ]
  },
  {
   "cell_type": "code",
   "execution_count": 8,
   "metadata": {},
   "outputs": [
    {
     "data": {
      "text/html": [
       "<div>\n",
       "<style scoped>\n",
       "    .dataframe tbody tr th:only-of-type {\n",
       "        vertical-align: middle;\n",
       "    }\n",
       "\n",
       "    .dataframe tbody tr th {\n",
       "        vertical-align: top;\n",
       "    }\n",
       "\n",
       "    .dataframe thead th {\n",
       "        text-align: right;\n",
       "    }\n",
       "</style>\n",
       "<table border=\"1\" class=\"dataframe\">\n",
       "  <thead>\n",
       "    <tr style=\"text-align: right;\">\n",
       "      <th></th>\n",
       "      <th>unique_words</th>\n",
       "      <th>line_number</th>\n",
       "    </tr>\n",
       "  </thead>\n",
       "  <tbody>\n",
       "    <tr>\n",
       "      <th>0</th>\n",
       "      <td>15</td>\n",
       "      <td>0</td>\n",
       "    </tr>\n",
       "    <tr>\n",
       "      <th>1</th>\n",
       "      <td>13</td>\n",
       "      <td>1</td>\n",
       "    </tr>\n",
       "    <tr>\n",
       "      <th>2</th>\n",
       "      <td>16</td>\n",
       "      <td>2</td>\n",
       "    </tr>\n",
       "    <tr>\n",
       "      <th>3</th>\n",
       "      <td>16</td>\n",
       "      <td>3</td>\n",
       "    </tr>\n",
       "    <tr>\n",
       "      <th>4</th>\n",
       "      <td>18</td>\n",
       "      <td>4</td>\n",
       "    </tr>\n",
       "    <tr>\n",
       "      <th>5</th>\n",
       "      <td>15</td>\n",
       "      <td>5</td>\n",
       "    </tr>\n",
       "    <tr>\n",
       "      <th>6</th>\n",
       "      <td>11</td>\n",
       "      <td>6</td>\n",
       "    </tr>\n",
       "    <tr>\n",
       "      <th>7</th>\n",
       "      <td>12</td>\n",
       "      <td>7</td>\n",
       "    </tr>\n",
       "    <tr>\n",
       "      <th>8</th>\n",
       "      <td>16</td>\n",
       "      <td>8</td>\n",
       "    </tr>\n",
       "    <tr>\n",
       "      <th>9</th>\n",
       "      <td>13</td>\n",
       "      <td>9</td>\n",
       "    </tr>\n",
       "    <tr>\n",
       "      <th>10</th>\n",
       "      <td>16</td>\n",
       "      <td>10</td>\n",
       "    </tr>\n",
       "    <tr>\n",
       "      <th>11</th>\n",
       "      <td>18</td>\n",
       "      <td>11</td>\n",
       "    </tr>\n",
       "    <tr>\n",
       "      <th>12</th>\n",
       "      <td>15</td>\n",
       "      <td>12</td>\n",
       "    </tr>\n",
       "    <tr>\n",
       "      <th>13</th>\n",
       "      <td>13</td>\n",
       "      <td>13</td>\n",
       "    </tr>\n",
       "    <tr>\n",
       "      <th>14</th>\n",
       "      <td>16</td>\n",
       "      <td>14</td>\n",
       "    </tr>\n",
       "    <tr>\n",
       "      <th>15</th>\n",
       "      <td>21</td>\n",
       "      <td>15</td>\n",
       "    </tr>\n",
       "    <tr>\n",
       "      <th>16</th>\n",
       "      <td>16</td>\n",
       "      <td>16</td>\n",
       "    </tr>\n",
       "    <tr>\n",
       "      <th>17</th>\n",
       "      <td>14</td>\n",
       "      <td>17</td>\n",
       "    </tr>\n",
       "    <tr>\n",
       "      <th>18</th>\n",
       "      <td>14</td>\n",
       "      <td>18</td>\n",
       "    </tr>\n",
       "    <tr>\n",
       "      <th>19</th>\n",
       "      <td>12</td>\n",
       "      <td>19</td>\n",
       "    </tr>\n",
       "    <tr>\n",
       "      <th>20</th>\n",
       "      <td>15</td>\n",
       "      <td>20</td>\n",
       "    </tr>\n",
       "    <tr>\n",
       "      <th>21</th>\n",
       "      <td>5</td>\n",
       "      <td>21</td>\n",
       "    </tr>\n",
       "  </tbody>\n",
       "</table>\n",
       "</div>"
      ],
      "text/plain": [
       "    unique_words  line_number\n",
       "0             15            0\n",
       "1             13            1\n",
       "2             16            2\n",
       "3             16            3\n",
       "4             18            4\n",
       "5             15            5\n",
       "6             11            6\n",
       "7             12            7\n",
       "8             16            8\n",
       "9             13            9\n",
       "10            16           10\n",
       "11            18           11\n",
       "12            15           12\n",
       "13            13           13\n",
       "14            16           14\n",
       "15            21           15\n",
       "16            16           16\n",
       "17            14           17\n",
       "18            14           18\n",
       "19            12           19\n",
       "20            15           20\n",
       "21             5           21"
      ]
     },
     "execution_count": 8,
     "metadata": {},
     "output_type": "execute_result"
    }
   ],
   "source": [
    "# get the number of unique words in each line\n",
    "unique_words = [len(re.compile(\"\\w+\").findall(line)) for line in paragraph.splitlines()]\n",
    "unique_words_df = pd.DataFrame(unique_words, columns=[\"unique_words\"])\n",
    "unique_words_df['line_number']=unique_words_df.index\n",
    "unique_words_df = unique_words_df.reset_index(drop=True)\n",
    "unique_words_df"
   ]
  },
  {
   "cell_type": "code",
   "execution_count": 9,
   "metadata": {},
   "outputs": [
    {
     "data": {
      "image/png": "[encoded data removed]",
      "text/plain": [
       "<Figure size 360x360 with 1 Axes>"
      ]
     },
     "metadata": {
      "needs_background": "light"
     },
     "output_type": "display_data"
    }
   ],
   "source": [
    "sns.displot(data=unique_words_df, x=\"unique_words\", kde=True);"
   ]
  },
  {
   "cell_type": "code",
   "execution_count": 10,
   "metadata": {},
   "outputs": [
    {
     "name": "stdout",
     "output_type": "stream",
     "text": [
      "Mean: 14.545, skew: -0.951\n"
     ]
    }
   ],
   "source": [
    "unique_words_mean = np.mean(unique_words_df[\"unique_words\"])\n",
    "unique_words_skew = skew(unique_words_df[\"unique_words\"])\n",
    "print(f\"Mean: {unique_words_mean:.3f}, skew: {unique_words_skew:.3f}\")"
   ]
  },
  {
   "cell_type": "markdown",
   "metadata": {},
   "source": [
    "## Conclusion\n",
    "\n",
    "Number of word occurrence is not normally distributed in each line. Occurrence of some\n",
    "words are significantly higher than others in the lines. Words like \"data\",\n",
    "\"analytics\", \"to\", \"of\" appear more than words like \"common\", \"analytical\",\n",
    "\"online\" in each line.\n",
    "\n",
    "The distribution is negatively skewed with mean of 14.545."
   ]
  },
  {
   "cell_type": "markdown",
   "metadata": {},
   "source": [
    "## 3c. What is the probability of the word “analytics” occurring after the word “data”?"
   ]
  },
  {
   "cell_type": "code",
   "execution_count": 11,
   "metadata": {},
   "outputs": [
    {
     "name": "stderr",
     "output_type": "stream",
     "text": [
      "/home/yusufraji/.pyenv/versions/3.8.8/envs/analytics-evaluation/lib/python3.8/site-packages/sklearn/utils/deprecation.py:87: FutureWarning: Function get_feature_names is deprecated; get_feature_names is deprecated in 1.0 and will be removed in 1.2. Please use get_feature_names_out instead.\n",
      "  warnings.warn(msg, category=FutureWarning)\n"
     ]
    }
   ],
   "source": [
    "# get the bigrams\n",
    "analytics_count = words_count['analytics']\n",
    "cv = CountVectorizer(ngram_range=(2, 2))\n",
    "X1 = cv.fit_transform(paragraph.splitlines())\n",
    "features = (cv.get_feature_names())"
   ]
  },
  {
   "cell_type": "code",
   "execution_count": 12,
   "metadata": {},
   "outputs": [],
   "source": [
    "# Applying TFIDF\n",
    "tv = TfidfVectorizer(ngram_range=(2, 2))\n",
    "X2 = tv.fit_transform(paragraph.splitlines())\n",
    "scores = (X2.toarray())"
   ]
  },
  {
   "cell_type": "code",
   "execution_count": 13,
   "metadata": {},
   "outputs": [
    {
     "name": "stdout",
     "output_type": "stream",
     "text": [
      "\n",
      "\n",
      "Words : \n",
      "                  term     rank\n",
      "81      data analysis  1.03558\n",
      "82     data analytics  0.98443\n",
      "191         points of  0.50000\n",
      "32         and points  0.50000\n",
      "176           of view  0.50000\n",
      "238        themes and  0.50000\n",
      "104  exploratory data  0.49879\n"
     ]
    }
   ],
   "source": [
    "# get the top ranked features\n",
    "total = X2.sum(axis=0)\n",
    "data1 = [(term, total[0, idx]) for idx, term in enumerate(features)]\n",
    "ranking = pd.DataFrame(data1, columns=['term', 'rank'])\n",
    "words = (ranking.sort_values('rank', ascending=False))\n",
    "print(\"\\n\\nWords : \\n\", words.head(7))"
   ]
  },
  {
   "cell_type": "code",
   "execution_count": 14,
   "metadata": {},
   "outputs": [
    {
     "name": "stdout",
     "output_type": "stream",
     "text": [
      "\n",
      "\n",
      "Words : \n",
      "                  term     rank\n",
      "81      data analysis  1.03558\n",
      "82     data analytics  0.98443\n",
      "191         points of  0.50000\n",
      "32         and points  0.50000\n",
      "176           of view  0.50000\n",
      "238        themes and  0.50000\n",
      "104  exploratory data  0.49879\n"
     ]
    }
   ],
   "source": [
    "# get the top ranked features\n",
    "total = X2.sum(axis=0)\n",
    "data1 = [(term, total[0, idx]) for idx, term in enumerate(features)]\n",
    "ranking = pd.DataFrame(data1, columns=['term', 'rank'])\n",
    "words = (ranking.sort_values('rank', ascending=False))\n",
    "print(\"\\n\\nWords : \\n\", words.head(7))"
   ]
  },
  {
   "cell_type": "code",
   "execution_count": 15,
   "metadata": {},
   "outputs": [],
   "source": [
    "bigramwords = re.findall('\\w+', paragraph)\n",
    "bigram_counts = Counter(zip(bigramwords, bigramwords[1:]))\n",
    "data_analytics_count = bigram_counts[(\"data\", \"analytics\")]"
   ]
  },
  {
   "cell_type": "code",
   "execution_count": 16,
   "metadata": {},
   "outputs": [
    {
     "name": "stdout",
     "output_type": "stream",
     "text": [
      "The word 'data' and 'analytics' appear together 6 times in the paragraph.\n",
      "The word 'analytics' appears 10 times in the paragraph.\n"
     ]
    }
   ],
   "source": [
    "print(f\"The word 'data' and 'analytics' appear together {data_analytics_count} times in the paragraph.\")\n",
    "print(f\"The word 'analytics' appears {analytics_count} times in the paragraph.\")"
   ]
  },
  {
   "cell_type": "code",
   "execution_count": 17,
   "metadata": {},
   "outputs": [
    {
     "name": "stdout",
     "output_type": "stream",
     "text": [
      "Probablity of the word 'analytics' appearing after the word 'data' is 0.6\n"
     ]
    }
   ],
   "source": [
    "print(f\"Probablity of the word 'analytics' appearing after the word 'data' is {data_analytics_count / analytics_count}\")"
   ]
  },
  {
   "cell_type": "markdown",
   "metadata": {},
   "source": [
    "## Conclusion\n",
    "\n",
    "Probablity of the word 'analytics' appearing after the word 'data' is 0.6"
   ]
  }
 ],
 "metadata": {
  "interpreter": {
   "hash": "62192dd52954d26679150475c0fb43dcc838c91825fe35d4e92e25bede916303"
  },
  "kernelspec": {
   "display_name": "Python 3.8.8 64-bit ('analytics-evaluation': pyenv)",
   "name": "python3"
  },
  "language_info": {
   "codemirror_mode": {
    "name": "ipython",
    "version": 3
   },
   "file_extension": ".py",
   "mimetype": "text/x-python",
   "name": "python",
   "nbconvert_exporter": "python",
   "pygments_lexer": "ipython3",
   "version": "3.8.8"
  },
  "orig_nbformat": 4
 },
 "nbformat": 4,
 "nbformat_minor": 2
}
