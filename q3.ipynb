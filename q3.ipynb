{
 "cells": [
  {
   "cell_type": "markdown",
   "metadata": {},
   "source": [
    "# Paragraph analysis"
   ]
  },
  {
   "cell_type": "markdown",
   "metadata": {},
   "source": [
    "## Imports"
   ]
  },
  {
   "cell_type": "code",
   "execution_count": 1,
   "metadata": {},
   "outputs": [],
   "source": [
    "import re\n",
    "import pandas as pd"
   ]
  },
  {
   "cell_type": "markdown",
   "metadata": {},
   "source": [
    "## Load text file"
   ]
  },
  {
   "cell_type": "code",
   "execution_count": 2,
   "metadata": {},
   "outputs": [
    {
     "data": {
      "text/plain": [
       "\"                                                                                                           0\\n0      as a term, data analytics predominantly refers to an assortment of applications, from basic business \\n1         intelligence (bi), reporting and online analytical processing (olap) to various forms of advanced \\n2         analytics. in that sense, it's similar in nature to business analytics, another umbrella term for \\n3   approaches to analyzing data -- with the difference that the latter is oriented to business uses, while \\n4       data analytics has a broader focus. the expansive view of the term isn't universal, though: in some \\n5       cases, people use data analytics specifically to mean advanced analytics, treating bi as a separate \\n6          category.  data analytics initiatives can help businesses increase revenues, improve operational \\n7            efficiency, optimize marketing campaigns and customer service efforts, respond more quickly to \\n8           emerging market trends and gain a competitive edge over rivals -- all with the ultimate goal of \\n9          boosting business performance. depending on the particular application, the data that's analyzed \\n10        can consist of either historical records or new information that has been processed for real-time \\n11   analytics uses. in addition, it can come from a mix of internal systems and external data sources.  at \\n12   a high level, data analytics methodologies include exploratory data analysis (eda), which aims to find \\n13      patterns and relationships in data, and confirmatory data analysis (cda), which applies statistical \\n14              techniques to determine whether hypotheses about a data set are true or false. eda is often \\n15   compared to detective work, while cda is akin to the work of a judge or jury during a court trial -- a \\n16  distinction first drawn by statistician john w. tukey in his 1977 book exploratory data analysis.  data \\n17       analytics can also be separated into quantitative data analysis and qualitative data analysis. the \\n18           former involves analysis of numerical data with quantifiable variables that can be compared or \\n19     measured statistically. the qualitative approach is more interpretive -- it focuses on understanding \\n20          the content of non-numerical data like text, images, audio and video, including common phrases, \\n21                                                                                themes and points of view.\""
      ]
     },
     "execution_count": 2,
     "metadata": {},
     "output_type": "execute_result"
    }
   ],
   "source": [
    "df = pd.read_csv(\"text.txt\", header=None, sep='\\n')\n",
    "df.to_string().lower()"
   ]
  },
  {
   "cell_type": "markdown",
   "metadata": {},
   "source": [
    "## 3a. What is the probability of the word “data” occurring in each line?"
   ]
  },
  {
   "cell_type": "code",
   "execution_count": null,
   "metadata": {},
   "outputs": [],
   "source": []
  },
  {
   "cell_type": "markdown",
   "metadata": {},
   "source": [
    "## 3b. What is the distribution of distinct word counts across all the lines?"
   ]
  },
  {
   "cell_type": "code",
   "execution_count": null,
   "metadata": {},
   "outputs": [],
   "source": []
  },
  {
   "cell_type": "markdown",
   "metadata": {},
   "source": [
    "## 3c. What is the probability of the word “analytics” occurring after the word “data”?"
   ]
  },
  {
   "cell_type": "code",
   "execution_count": null,
   "metadata": {},
   "outputs": [],
   "source": []
  }
 ],
 "metadata": {
  "interpreter": {
   "hash": "62192dd52954d26679150475c0fb43dcc838c91825fe35d4e92e25bede916303"
  },
  "kernelspec": {
   "display_name": "Python 3.8.8 64-bit ('analytics-evaluation': pyenv)",
   "name": "python3"
  },
  "language_info": {
   "codemirror_mode": {
    "name": "ipython",
    "version": 3
   },
   "file_extension": ".py",
   "mimetype": "text/x-python",
   "name": "python",
   "nbconvert_exporter": "python",
   "pygments_lexer": "ipython3",
   "version": "3.8.8"
  },
  "orig_nbformat": 4
 },
 "nbformat": 4,
 "nbformat_minor": 2
}
